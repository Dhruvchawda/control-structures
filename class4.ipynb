{
 "cells": [
  {
   "cell_type": "markdown",
   "id": "4ae56981",
   "metadata": {},
   "source": [
    "# control and flow statements\n",
    "# if conditions\n"
   ]
  },
  {
   "cell_type": "code",
   "execution_count": 4,
   "id": "029bfdfc",
   "metadata": {},
   "outputs": [
    {
     "name": "stdout",
     "output_type": "stream",
     "text": [
      "x is less than 100\n"
     ]
    }
   ],
   "source": [
    "x=10\n",
    "if x>=100:\n",
    "    print(\"x is greater than 100\")\n",
    "else:\n",
    "        print(\"x is less than 100\")"
   ]
  },
  {
   "cell_type": "code",
   "execution_count": 7,
   "id": "0bfe69ff",
   "metadata": {},
   "outputs": [
    {
     "name": "stdout",
     "output_type": "stream",
     "text": [
      "x is negative num\n"
     ]
    }
   ],
   "source": [
    "##elif condiction\n",
    "x=-3\n",
    "if x>0:\n",
    "    print(\"x is positive num\")\n",
    "elif x<0:\n",
    "    print(\"x is negative num\")\n",
    "else:\n",
    "    print(\"x is zero\")"
   ]
  },
  {
   "cell_type": "code",
   "execution_count": 8,
   "id": "3c115dd8",
   "metadata": {},
   "outputs": [
    {
     "name": "stdout",
     "output_type": "stream",
     "text": [
      "1\n",
      "2\n",
      "3\n",
      "4\n",
      "5\n",
      "6\n",
      "7\n",
      "8\n",
      "9\n",
      "10\n"
     ]
    }
   ],
   "source": [
    "##for loop\n",
    "x=[1,2,3,4,5,6,7,8,9,10]\n",
    "for i in x:\n",
    "    print(i)"
   ]
  },
  {
   "cell_type": "code",
   "execution_count": 10,
   "id": "f7754f9f",
   "metadata": {},
   "outputs": [
    {
     "name": "stdout",
     "output_type": "stream",
     "text": [
      "1 x 2 = 2\n",
      "2 x 2 = 4\n",
      "3 x 2 = 6\n",
      "4 x 2 = 8\n",
      "5 x 2 = 10\n",
      "6 x 2 = 12\n",
      "7 x 2 = 14\n",
      "8 x 2 = 16\n",
      "9 x 2 = 18\n",
      "10 x 2 = 20\n"
     ]
    }
   ],
   "source": [
    "## 2 table\n",
    "x=[1,2,3,4,5,6,7,8,9,10]\n",
    "for i in x:\n",
    "    print(i,\"x\",2,\"=\", i*2)"
   ]
  },
  {
   "cell_type": "code",
   "execution_count": 17,
   "id": "e0390207",
   "metadata": {},
   "outputs": [
    {
     "name": "stdout",
     "output_type": "stream",
     "text": [
      "2\n",
      "4\n",
      "6\n",
      "8\n",
      "10\n"
     ]
    }
   ],
   "source": [
    "## for first 5 even num\n",
    "x=[1,2,3,4,5,6,7,8,9,10]\n",
    "for i in x:\n",
    "    if i%2==0:\n",
    "        print(i)"
   ]
  },
  {
   "cell_type": "code",
   "execution_count": 1,
   "id": "55140143",
   "metadata": {},
   "outputs": [
    {
     "name": "stdout",
     "output_type": "stream",
     "text": [
      "1\n",
      "2\n",
      "3\n",
      "4\n",
      "5\n",
      "6\n",
      "7\n",
      "8\n",
      "9\n",
      "10\n"
     ]
    }
   ],
   "source": [
    "## while loop: runs as long as the condition is true\n",
    "x=1\n",
    "while x<=10:\n",
    "    print(x)\n",
    "    x=x+1"
   ]
  },
  {
   "cell_type": "code",
   "execution_count": 6,
   "id": "de06485d",
   "metadata": {},
   "outputs": [
    {
     "name": "stdout",
     "output_type": "stream",
     "text": [
      "1\n",
      "3\n",
      "5\n",
      "7\n",
      "9\n"
     ]
    }
   ],
   "source": [
    "## first ten odd num using while loop\n",
    "x=1\n",
    "while x<=10:\n",
    "    if x%2==1:\n",
    "        print(x)\n",
    "    x=x+1\n"
   ]
  },
  {
   "cell_type": "code",
   "execution_count": 7,
   "id": "5b8c45d4",
   "metadata": {},
   "outputs": [
    {
     "name": "stdout",
     "output_type": "stream",
     "text": [
      "2\n",
      "4\n",
      "6\n",
      "8\n",
      "10\n"
     ]
    }
   ],
   "source": [
    "## first ten even num using while loop\n",
    "x=1\n",
    "while x<=10:\n",
    "    if x%2!=1:\n",
    "        print(x)\n",
    "    x=x+1\n"
   ]
  },
  {
   "cell_type": "code",
   "execution_count": 10,
   "id": "596a1e54",
   "metadata": {},
   "outputs": [
    {
     "name": "stdout",
     "output_type": "stream",
     "text": [
      "1\n",
      "2\n",
      "3\n",
      "4\n",
      "5\n"
     ]
    }
   ],
   "source": [
    "## break\n",
    "\n",
    "x=[1,2,3,4,5,6,7,8,9,10]\n",
    "\n",
    "for i in x:\n",
    "    print(i)\n",
    "    if i==5:\n",
    "        break\n",
    "        print(\"this break condition\")\n",
    "        "
   ]
  },
  {
   "cell_type": "code",
   "execution_count": 45,
   "id": "006b314a",
   "metadata": {},
   "outputs": [
    {
     "name": "stdout",
     "output_type": "stream",
     "text": [
      "1\n",
      "5 will be skipped\n",
      "2\n",
      "5 will be skipped\n",
      "3\n",
      "5 will be skipped\n",
      "4\n",
      "5 will be skipped\n",
      "6\n",
      "5 will be skipped\n",
      "7\n",
      "5 will be skipped\n",
      "8\n",
      "5 will be skipped\n",
      "9\n",
      "5 will be skipped\n",
      "10\n",
      "5 will be skipped\n"
     ]
    }
   ],
   "source": [
    "## continue\n",
    "\n",
    "x=[1,2,3,4,5,6,7,8,9,10]\n",
    "\n",
    "for i in x:\n",
    "    if i==5:\n",
    "        continue\n",
    "    print(i)\n",
    "    print(\"5 will be skipped\")"
   ]
  },
  {
   "cell_type": "code",
   "execution_count": 50,
   "id": "00acc6ac",
   "metadata": {},
   "outputs": [],
   "source": [
    "##pass\n",
    "def futuredev():\n",
    "    pass"
   ]
  },
  {
   "cell_type": "code",
   "execution_count": null,
   "id": "06c08ec2",
   "metadata": {},
   "outputs": [],
   "source": []
  },
  {
   "cell_type": "code",
   "execution_count": null,
   "id": "6770d41f",
   "metadata": {},
   "outputs": [],
   "source": []
  }
 ],
 "metadata": {
  "kernelspec": {
   "display_name": "Python 3 (ipykernel)",
   "language": "python",
   "name": "python3"
  },
  "language_info": {
   "codemirror_mode": {
    "name": "ipython",
    "version": 3
   },
   "file_extension": ".py",
   "mimetype": "text/x-python",
   "name": "python",
   "nbconvert_exporter": "python",
   "pygments_lexer": "ipython3",
   "version": "3.9.12"
  }
 },
 "nbformat": 4,
 "nbformat_minor": 5
}
